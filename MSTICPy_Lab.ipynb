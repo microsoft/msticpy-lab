{
 "cells": [
  {
   "cell_type": "markdown",
   "metadata": {},
   "source": [
    "# MSTICPy Lab\n",
    "\n",
    "This lab provides an interactive introduction to MSTICPy and its core features. It uses local datasets to provide a repeatable experience, however this follows the same pattern as if you were using data from a remote data store via one of MSTICPy's [Data Providers](https://msticpy.readthedocs.io/en/latest/data_acquisition/DataProviders.html)<br>\n",
    "\n",
    "\n",
    "If you require more information during this lab more details can be found in the [MSTICPy documentation](https://msticpy.readthedocs.io/en/latest/)."
   ]
  },
  {
   "cell_type": "markdown",
   "metadata": {},
   "source": [
    "## How to use this lab\r\n",
    "\r\n",
    "The lab contains a number of interactive code examples as well as exercises to be completed. The exercises are entirely optional and can be skipped if wanted, however they provide a useful way to learn about using some of the core features of MSTICPy.<br>\r\n",
    "\r\n",
    "To use the notebook simply select each cell below and either click the run cell button at the top or alternatively use the keyboard shortcut of Ctrl+Enter to execute each cell. Many cells will use the output of previous cells so its strongly recommended that cells be run in order.<br>\r\n",
    "\r\n",
    "<div class=\"alert alert-block alert-info\">\r\n",
    "    <b>Note:</b> not all cells will have an output, do not be surprised if you do not see anything appear under a cell after running it. Also, some cells may take a while to run so please be a bit patient. For more help on running Jupyter notebooks please refer to <a href=\"https://jupyter.readthedocs.io/en/latest/running.html\">this documentation.</a>\r\n",
    "</div>\r\n",
    "\r\n",
    "If you get stuck with any of the exercises in this lab you can check your answers in the [completed notebook here](https://github.com/microsoft/msticpy-lab/blob/main/MSTICPy_Lab_Completed.ipynb).<br>\r\n",
    "\r\n",
    "In several places this notebook uses lookups to the external threat intelligence provider [GreyNoise](https://GreyNoise.io/). As this is an online service you may get different responses as that data is updated. Do not be surprised if you get no positive results when running the sections of this notebook where threat intelligence is used."
   ]
  },
  {
   "cell_type": "markdown",
   "metadata": {},
   "source": [
    "## Setup\n",
    "\n",
    "MSTICpy includes a feature called [nbinit](https://msticpy.readthedocs.io/en/latest/msticpy.nbtools.html?highlight=nbinit#module-msticpy.nbtools.nbinit) that handles the process of installing and importing modules into a notebook environment. This was developed to allow for a clearer starting cell in notebooks and to avoid users being presented with a very large cell block at the top of a notebook.<br>\n",
    "\n",
    "By passing the notebook namespace to init_notebook() this function handles the job of installing and importing core MSTICpy packages along with any others that might be needed by a notebook. When running this cell you may see some warnings - **this is to be expected and will not affect the rest of the lab** - they are simply show as we are not using a completed configuration in this scenario.\n",
    "\n",
    "<div class=\"alert alert-block alert-info\">\n",
    "<b>Note:</b> When running this cell you may see some warnings - <b>this is to be expected and will not affect the rest of the lab</b> - they are simply show as we are not using a completed configuration in this scenario.\n",
    "</div>\n",
    "\n",
    "You must have msticpy installed to run this notebook (if using binder this lab has the package pre-installed for you):\n",
    "```\n",
    "!pip install --upgrade msticpy[timeseries, splunk, azsentinel]\n",
    "```\n",
    "MSTICpy versions > 1.0.1\n",
    "\n",
    "The notebook also uses MSTIC Notebooklets (again pre-installed if using binder):\n",
    "```\n",
    "!pip install --upgrade msticnb\n",
    "```"
   ]
  },
  {
   "cell_type": "code",
   "execution_count": null,
   "metadata": {},
   "outputs": [],
   "source": [
    "from msticpy.nbtools import nbinit\n",
    "nbinit.init_notebook(\n",
    "    namespace=globals()\n",
    ")\n",
    "\n",
    "ti = TILookup()"
   ]
  },
  {
   "cell_type": "code",
   "execution_count": null,
   "metadata": {},
   "outputs": [],
   "source": [
    "# We also need to load a couple of anwsers for one of the exercises (no peeking!)\n",
    "import json\n",
    "\n",
    "with open(\"data/answers.json\") as f:\n",
    "    answers = json.load(f)"
   ]
  },
  {
   "cell_type": "markdown",
   "metadata": {},
   "source": [
    "## Data Acquisition\n",
    "The starting point for many security analysis notebooks is ingesting data to conduct analysis or investigation of. MSTICpy has a number of [query providers](https://msticpy.readthedocs.io/en/latest/data_acquisition/DataProviders.html) to allow users to query and return data from a number of sources. Below we are using the Local Data query provider to return data from local files. This is useful for this lab but is also useful if analysis is relying on local data rather than a 'live' data source.<br> \n",
    "\n",
    "In order to provide a common interface layer between data and features in MSTICPy all data is returned in a Pandas [DataFrame](https://pandas.pydata.org/pandas-docs/stable/reference/api/pandas.DataFrame.html) DataFrame. As well as providing a consistent framework for other features to user it also allows for easy manipulation and analysis of the returned data using Pandas numerous features."
   ]
  },
  {
   "cell_type": "markdown",
   "metadata": {},
   "source": [
    "The first step in using a query provider is to initialize a `QueryProvider` and pass it the type of provider you want to use. Depending on the provider type you can also pass other required parameters. In the cell below we create a LocalData provider and pass it the location of where are local data files and their definitions are stored.<br>\n",
    "\n",
    "Each provider contains a series of built-in queries. These are pre-defined queries that return a specific subset of data, for our LocalData provider this is a specific file, however for a 'live' data source such as Azure Sentinel these will execute queries against that data source and return the results.<br>\n",
    "\n",
    "Once the query provider has been created we can use the `browse_queries` feature to interactively view the available queries."
   ]
  },
  {
   "cell_type": "code",
   "execution_count": null,
   "metadata": {},
   "outputs": [],
   "source": [
    "# We start by loading a query provider for our `LocalData` source.\n",
    "qry_prov = QueryProvider(data_environment=\"LocalData\", data_paths=[\"./data\"], query_paths=[\"./data\"])\n",
    "# We can then look at the queries built into a provider by default\n",
    "qry_prov.browse_queries()"
   ]
  },
  {
   "cell_type": "markdown",
   "metadata": {},
   "source": [
    "------------------------\n",
    "\n",
    "Once a query has been selected you call it directly with `qry_prov.{query_group}.{query_name}` . You can also pass extra parameters to these queries where they have configurable elements (often things such as timeframes and specific entities to search for). In addition the query providers also allow you to execute a query defined as a string by calling `qry_prov.exec_query(QUERY_STRING)`<br>\n",
    "\n",
    "The returned dataframe contains the query results and can be displayed and interacted with as with any other Pandas dataframe."
   ]
  },
  {
   "cell_type": "code",
   "execution_count": null,
   "metadata": {},
   "outputs": [],
   "source": [
    "events = qry_prov.WindowsSecurity.list_host_events()\n",
    "events.head()"
   ]
  },
  {
   "cell_type": "markdown",
   "metadata": {},
   "source": [
    "<div class=\"alert alert-block alert-success\">\n",
    "<h3>Lab Exercise 1</h3>\n",
    "In the cell below write code that uses the query provider created above (`qry_prov`) to get data relating to security alerts using a built-in query. You can use the query browser above to find the most suitable query to run.\n",
    "\n",
    "<details>\n",
    "    <summary>Hint:</summary>\n",
    "    Queries relating to security alerts are part of the SecurityAlert query type.\n",
    "</details>\n",
    "</div>"
   ]
  },
  {
   "cell_type": "code",
   "execution_count": null,
   "metadata": {},
   "outputs": [],
   "source": [
    "# Get security alert data"
   ]
  },
  {
   "cell_type": "markdown",
   "metadata": {},
   "source": [
    "## Enrich Data\n",
    "A key analysis step for security analysts is to take a dataset, extract relevant elements and enrich it with another dataset to help filter it.\n",
    "A common example of this is taking IP addresses in log data and seeing if any of them appear in threat intelligence data.<br>\n",
    "\n",
    "In the cells below we use MSTICPy's query provider to get sign in event data, and then look up the IPs those sign-ins have come from against a threat intelligence provider's API using the [MSTICPy threat intelligence](https://msticpy.readthedocs.io/en/latest/data_acquisition/TIProviders.html) features. In this case we are using the [GreyNoise](https://greynoise.io/) provider."
   ]
  },
  {
   "cell_type": "code",
   "execution_count": null,
   "metadata": {},
   "outputs": [],
   "source": [
    "# First we are going to use a built in query to get all of our signin data from our Windows host\n",
    "data = qry_prov.WindowsSecurity.list_host_logons()\n",
    "data.head()"
   ]
  },
  {
   "cell_type": "markdown",
   "metadata": {},
   "source": [
    "MSTICPy includes a [Threat Intelligence (TI) lookup provider](https://msticpy.readthedocs.io/en/latest/data_acquisition/TIProviders.html) `TILookup` that allows for key indicators to be searched for in various different services. The provider can be configured to use a range of different providers, and queries can be specifically targeted at a provider if required.\n",
    "MSTICPY current supports the following providers:\n",
    "- VirusTotal\n",
    "- AlienVault OTX\n",
    "- IBM XForce\n",
    "- GreyNoise\n",
    "- Azure Sentinel Threat Intelligence\n",
    "\n",
    "There is also support via the TI lookup provider to get the [Open Page Rank](https://www.domcop.com/openpagerank/what-is-openpagerank#:~:text=What%20Is%20Open%20PageRank%3F%20The%20Open%20PageRank%20initiative,has%20been%20collected%20over%20the%20last%207%20years) for a domain, and determine if an IP address is a [ToR]( https://www.torproject.org/) exit node.<br>\n",
    "\n",
    "When instantiating a TI provider you can define the providers you want it to load, or you can let it search for a [MSTICPy config file](https://msticpy.readthedocs.io/en/latest/getting_started/msticpyconfig.html) and take configuration from there - this is the approach we are taking in this lab."
   ]
  },
  {
   "cell_type": "code",
   "execution_count": null,
   "metadata": {},
   "outputs": [],
   "source": [
    "# Next we need to load our TI providers\n",
    "ti = TILookup()"
   ]
  },
  {
   "cell_type": "markdown",
   "metadata": {},
   "source": [
    "`.loaded_providers` shows which providers have been loaded by the TI lookup provider."
   ]
  },
  {
   "cell_type": "code",
   "execution_count": null,
   "metadata": {},
   "outputs": [],
   "source": [
    "# For this lab we are just using the GreyNoise provider\n",
    "ti.loaded_providers"
   ]
  },
  {
   "cell_type": "markdown",
   "metadata": {},
   "source": [
    "Once loaded you can use `lookup_ioc` to look up a single indicator, or `lookup_iocs` to look up every value in a dataframe column.<br>\n",
    "\n",
    "In this example we want to look up every IP address in our results dataframe, so we are going to use `lookup_iocs`, tell it to look up values in the \"IpAddress\" column, and use the GreyNoise service to do the lookups.<br>\n",
    "\n",
    "Once we have results you can either display the results statically or use `browse_results` to get an interactive view of the results."
   ]
  },
  {
   "cell_type": "code",
   "execution_count": null,
   "metadata": {},
   "outputs": [],
   "source": [
    "# Here we lookup each of the IP addresses in our dataset\n",
    "results = ti.lookup_iocs(data, obs_col=\"IpAddress\", providers=['GreyNoise'])\n",
    "ti_browser.browse_results(results, severities=['information', 'warning', 'high'])"
   ]
  },
  {
   "cell_type": "markdown",
   "metadata": {},
   "source": [
    "<div class=\"alert alert-block alert-success\">\n",
    "<h3>Lab Exercise 2</h3>\n",
    "Now that you have seen how to return and enrich data, complete the code in the following two cells to get a list of Azure AD sign in events and look up the origin IP addresses against threat intelligence.<br>\n",
    "\n",
    "Additional documentation on the threat intelligence provider can be found [here](https://msticpy.readthedocs.io/en/latest/data_acquisition/TIProviders.html)\n",
    "\n",
    "<details>\n",
    "    <summary>Hint:</summary>\n",
    "    <ul>\n",
    "        <li>Remember to pass `obs_col=\"IPAddress\"` to `lookup_iocs` to get lookups on the correct column</li>\n",
    "        <li>You can reuse the TI provider assigned to `ti` in the cells above</li>\n",
    "    </ul>\n",
    "</details>\n",
    "</div>\n",
    "    \n"
   ]
  },
  {
   "cell_type": "code",
   "execution_count": null,
   "metadata": {},
   "outputs": [],
   "source": [
    "# Use the query provider qry_prov to get Azure signin data with the list_all_signins_geo query\n"
   ]
  },
  {
   "cell_type": "code",
   "execution_count": null,
   "metadata": {},
   "outputs": [],
   "source": [
    "# Lookup the IP addresses in the IPAddress column using the GreyNoise TI provider\n"
   ]
  },
  {
   "cell_type": "markdown",
   "metadata": {},
   "source": [
    "## Extracting key data\n",
    "Often when working with security related data the indicators you need are not as readily available as they were in the example above. Often, they can be encoded or otherwise obscured from human analysis. MSTICPy also includes tooling to help security analysts quickly decode this data for further analysis.<br>\n",
    "\n",
    "In this section we are going to query our datasets for command line data, decode any Base64 encoding in the command lines using the [`base64` feature](https://msticpy.readthedocs.io/en/latest/data_analysis/Base64Unpack.html), and then extract known indicator types (such as IP addresses and domain names) from that data using the [`IoCExtract` feature](https://msticpy.readthedocs.io/en/latest/data_analysis/IoCExtract.html)."
   ]
  },
  {
   "cell_type": "code",
   "execution_count": null,
   "metadata": {},
   "outputs": [],
   "source": [
    "# Load command line data set\n",
    "cmdl_data = qry_prov.WindowsSecurity.list_host_processes()\n",
    "cmdl_data.head()"
   ]
  },
  {
   "cell_type": "markdown",
   "metadata": {},
   "source": [
    "Now that we have some data, we can call `base64.unpack_df` and tell it to unpack data found in the 'CommandLine' column. This feature will look for Base64 patterns in that column, attempt to unpack any it finds and present us with the decoded output.<br>\n",
    "\n",
    "`base64.unpack_df` provides an output of just elements relevant to the decoded string, to get some context on where this string was found we next join it back to the original dataset so that we can see the log event and the decoded string in the same dataset."
   ]
  },
  {
   "cell_type": "code",
   "execution_count": null,
   "metadata": {},
   "outputs": [],
   "source": [
    "# Base64 decode\n",
    "b64df = base64.unpack_df(data=cmdl_data.head(1000), column='CommandLine')\n",
    "b64df['SourceIndex'] = pd.to_numeric(b64df['src_index'])\n",
    "merged_df = (cmdl_data\n",
    "             .merge(right=b64df, how='left', left_index=True, right_on='SourceIndex')\n",
    "             #.drop(columns=['Unnamed: 0'])\n",
    "             .set_index('SourceIndex'))\n",
    "\n",
    "# Show the result of the merge (only those rows that have a value in original_string)\n",
    "merged_filtered = merged_df.dropna(subset=['decoded_string'])[[\"TimeGenerated\", \"Account\", \"Computer\", \"NewProcessName\", \"CommandLine_x\", \"decoded_string\"]]\n",
    "merged_filtered"
   ]
  },
  {
   "cell_type": "markdown",
   "metadata": {},
   "source": [
    "Now that we have the decoded string, we can look for any Indicators of Compromise (IoCs) in these strings. Using [MSTICPy's `IoCExtract`](https://msticpy.readthedocs.io/en/latest/data_analysis/IoCExtract.html) we can search all of these decoded strings for things such as IP addresses, file hashes and URLs. You can choose to search specific indicator types by passing the `ioc_types` parameter but we want to just search for everything.<br>\n",
    "\n",
    "MSTICPy has a set of common IoC patterns to search for and extract but you can also extend this by adding your own regex patterns with `add_ioc_type`."
   ]
  },
  {
   "cell_type": "code",
   "execution_count": null,
   "metadata": {},
   "outputs": [],
   "source": [
    "# Extract IoCs\n",
    "ioc_extractor = IoCExtract()\n",
    "ioc_df = ioc_extractor.extract(data=merged_filtered, columns=['decoded_string'])\n",
    "ioc_df"
   ]
  },
  {
   "cell_type": "markdown",
   "metadata": {},
   "source": [
    "We can also use `domain_utils` to get some other information on the domain, such as what IP addresses it resolves to."
   ]
  },
  {
   "cell_type": "code",
   "execution_count": null,
   "metadata": {},
   "outputs": [],
   "source": [
    "from msticpy.sectools.domain_utils import dns_resolve\n",
    "dns_info = dns_resolve(ioc_df.iloc[0]['Observable'])\n",
    "display(dns_info)"
   ]
  },
  {
   "cell_type": "markdown",
   "metadata": {},
   "source": [
    "<div class=\"alert alert-block alert-success\">\n",
    "    <h3>Lab Exercise 4</h3>\n",
    "Syslog data is a common data source during security analysis. The syslog data structure includes a lot of key information in a single field that can make extraction complicated. <br>\n",
    "In this exercise you will load syslog data and extract indicators from the Message field.<br>\n",
    "\n",
    "**Bonus Task**:<br>\n",
    "Identify the Base64 encoded syslog messages and extract indicators from those as well.\n",
    "\n",
    "<details>\n",
    "    <summary>Hint:</summary>\n",
    "    <ul>\n",
    "        <li>Syslog data is found under the LinuxSyslog type of queries</li>\n",
    "        <li>Core syslog data is stored in the SyslogMessage column</li>\n",
    "    </ul>\n",
    "</details>\n",
    "</div>"
   ]
  },
  {
   "cell_type": "code",
   "execution_count": null,
   "metadata": {},
   "outputs": [],
   "source": [
    "# Load syslog data\n"
   ]
  },
  {
   "cell_type": "code",
   "execution_count": null,
   "metadata": {},
   "outputs": [],
   "source": [
    "# Extract URL indicators from the SyslogMessage column and get a unique list of indicators found\n"
   ]
  },
  {
   "cell_type": "code",
   "execution_count": null,
   "metadata": {},
   "outputs": [],
   "source": [
    "# Decode Base64 data and extract indicators\n",
    "\n",
    "# get a list of decoded strings\n",
    "\n",
    "# Extract dns indicators from these strings (use the full_decoded_string column)\n"
   ]
  },
  {
   "cell_type": "markdown",
   "metadata": {},
   "source": [
    "## Data Visualization\n",
    "Data visualization is a key tool in any data analyis scenario and the same is true during security analysis. MSTICPy contains a number of visualizations, below we will plot locations on a map to help identify anomalous logon locations, showing a graph of security alerts, and plotting a process tree showing process executions on a host.<br>\n",
    "\n",
    "*MSTICpy uses [Bokeh](https://bokeh.org/) and [Folium](https://python-visualization.github.io/folium/#) to power its visualization features.*\n",
    "\n",
    "The first thing we need to do is get some data to plot. Here we will use Azure AD signin events. These events include the location the login occured from allowing us to easily plot them on a map for geospatial analysis."
   ]
  },
  {
   "cell_type": "code",
   "execution_count": null,
   "metadata": {},
   "outputs": [],
   "source": [
    "# Plot IP geolocation on a map\n",
    "loc_data = qry_prov.Azure.list_all_signins_geo()\n",
    "loc_data.head()"
   ]
  },
  {
   "cell_type": "markdown",
   "metadata": {},
   "source": [
    "Before we can plot the data we need to format the raw data into a known format. MSTICPy has a number of [defined entities](https://msticpy.readthedocs.io/en/latest/msticpy.datamodel.html?highlight=entitie), one of which is `Ip`. The entity has a location property, so by mapping the columns in our data to the properties of these entities we can easily format the whole dataset in a series of entities.\n",
    "\n",
    "From there we can then use MSTICPy's [`FoliumMap`](https://msticpy.readthedocs.io/en/latest/visualization/FoliumMap.html) feature to plot these entities on a map."
   ]
  },
  {
   "cell_type": "code",
   "execution_count": null,
   "metadata": {},
   "outputs": [],
   "source": [
    "ip_ents = []\n",
    "def format_ips(row):\n",
    "    ip_ent = entities.ip_address.Ip(Address=row['IPAddress'])\n",
    "    loc = entities.GeoLocation(Longitude=float(row['Longitude']), Latitude=float(row['Latitude']))\n",
    "    ip_ent.Location = loc\n",
    "    ip_ents.append(ip_ent)\n",
    "    \n",
    "# Format dataset into entities\n",
    "loc_data.apply(format_ips, axis=1)\n",
    "# Create Map plot\n",
    "folium_map = FoliumMap(zoom_start=2)\n",
    "# Add IP entities to the map\n",
    "folium_map.add_ip_cluster(ip_entities=ip_ents, color=\"blue\")\n",
    "# Center the map around the plotted entities\n",
    "folium_map.center_map()\n",
    "# Display the map\n",
    "folium_map"
   ]
  },
  {
   "cell_type": "markdown",
   "metadata": {},
   "source": [
    "Another useful visualization is a graph plot that shows connections between events. This is particularly useful when looking at data items such as alerts that contain a lot of embedded data such as affected hosts and users. By graph plotting alert data we can see the connections between them that might help a security analyst get a better understanding of an intrusion.\n",
    "\n",
    "Using [`create_alert_graph`](https://msticpy.readthedocs.io/en/latest/msticpy.data.html?highlight=create_alert_graph#msticpy.nbtools.security_alert_graph.create_alert_graph) we can create a [NetworkX](https://networkx.org/) representation of a security alert, and link it to our other alerts. We then call [`draw_alert_entity_graph`](https://msticpy.readthedocs.io/en/latest/msticpy.nbtools.html?highlight=draw_alert_entity_graph#msticpy.nbtools.nbdisplay.draw_alert_entity_graph) to display this.\n",
    "\n"
   ]
  },
  {
   "cell_type": "code",
   "execution_count": null,
   "metadata": {},
   "outputs": [],
   "source": [
    "# Security Alert Graph\n",
    "alert_df = qry_prov.SecurityAlert.list_alerts()\n",
    "# Create a Security Alert entity\n",
    "alert = SecurityAlert(alert_df.iloc[0])\n",
    "# Create a graph\n",
    "grph = create_alert_graph(alert)\n",
    "# Add other alerts to the graph\n",
    "full_grph = add_related_alerts(alert_df, grph)\n",
    "# Display the graph\n",
    "nbdisplay.draw_alert_entity_graph(full_grph, width=15)"
   ]
  },
  {
   "cell_type": "markdown",
   "metadata": {},
   "source": [
    "Another common visualization in security tooling is the process tree. This shows the hierarchical relationship of processes executed on a host.\n",
    "\n",
    "MSTICPy has functions to both build and plot these process trees based off Windows process creation events. More details on these functions can be found [here](https://msticpy.readthedocs.io/en/latest/visualization/ProcessTree.html)."
   ]
  },
  {
   "cell_type": "code",
   "execution_count": null,
   "metadata": {},
   "outputs": [],
   "source": [
    "# Before plotting a process tree we need to get data related to process creation events\n",
    "proc_df = qry_prov.WindowsSecurity.get_process_tree()\n",
    "proc_df.head()"
   ]
  },
  {
   "cell_type": "code",
   "execution_count": null,
   "metadata": {},
   "outputs": [],
   "source": [
    "# We start by building the process tree\n",
    "p_tree_win = ptree.build_process_tree(proc_df, schema=None, show_progress=False, debug=False)\n",
    "# We then get then identify the root processes and their descendants\n",
    "proc_tree = ptree.get_descendents(p_tree_win, ptree.get_roots(p_tree_win).iloc[0])\n",
    "# we can then plot the process tree\n",
    "nbdisplay.plot_process_tree(data=proc_tree, legend_col=\"SubjectUserName\", show_table=True)"
   ]
  },
  {
   "cell_type": "markdown",
   "metadata": {},
   "source": [
    "Temporal analaysis is another key tool in security investigation. Seeing in which order events occur, and how events cluster temporally can provide some invaluable insights. To help with this MSTICPy contains a flexible [timeline feature](https://msticpy.readthedocs.io/en/latest/visualization/EventTimeline.html) that allows for the plotting of a range of data on a timeline. You can plot simple single category discrete events, running values, and multi series events all in an interactive [Bokeh](https://bokeh.org/) visualization.\n",
    "\n",
    "Using the timeline is as simple as passing a dataframe of data to `display_timeline`. By default this will use the TimeGenerated column for the time element, and a set of common column values to display when hovering over an event. These can be customized with the `time_column` and `source_columns` parameters (as used below).\n"
   ]
  },
  {
   "cell_type": "code",
   "execution_count": null,
   "metadata": {},
   "outputs": [],
   "source": [
    "# Get some data to plot\n",
    "alert_df = qry_prov.SecurityAlert.list_alerts()\n",
    "# Plot these values on a timeline based on when they were generated\n",
    "nbdisplay.display_timeline(alert_df, source_columns=[\"AlertName\"])"
   ]
  },
  {
   "cell_type": "markdown",
   "metadata": {},
   "source": [
    "It's also possible to group events by a column to show them as separate rows in the timeline. This is done by passing the column you want to split on as `group_by` - below we are grouping by the alert severity.\n",
    "\n",
    "There are also many other ways to customize this timeline. Please read the [full documentation](https://msticpy.readthedocs.io/en/latest/msticpy.nbtools.html#msticpy.nbtools.timeline.display_timeline) to see a list of options."
   ]
  },
  {
   "cell_type": "code",
   "execution_count": null,
   "metadata": {},
   "outputs": [],
   "source": [
    "nbdisplay.display_timeline(alert_df, source_columns=[\"AlertName\"], group_by=\"Severity\")"
   ]
  },
  {
   "cell_type": "markdown",
   "metadata": {},
   "source": [
    "<div class=\"alert alert-block alert-success\">\n",
    "    <h3>Lab Exercise 5</h3>\n",
    "    In this lab you are going to plot your own timeline of events.<br>\n",
    "    The timeline show plot Windows Host Logon events (.WindowsSecurity.list_host_logons).<br>\n",
    "    You should group these by the logon type, and the hover over should show the user account logging in and what IP address they logged in from.\n",
    "    \n",
    "<details>\n",
    "    <summary>Hint:</summary>\n",
    "    <ul>\n",
    "        <li>Grouping is passed with the 'group_by` parameter.</li>\n",
    "        <li>Hover over values are set with the 'source_columns' parameter.</li>\n",
    "    </ul>\n",
    "</details>\n",
    "</div>"
   ]
  },
  {
   "cell_type": "code",
   "execution_count": null,
   "metadata": {},
   "outputs": [],
   "source": [
    "# Load data\n",
    "\n",
    "\n",
    "# Plot the timeline\n",
    "\n"
   ]
  },
  {
   "cell_type": "markdown",
   "metadata": {},
   "source": [
    "## Pivots in MSTICPy\n",
    "\n",
    "MSTICPy has a lot of functionality distributed across many classes and modules. However, there is no simple way to discover where these functions are and what types of data the function is relevant to.\n",
    "\n",
    "[Pivot functions](https://msticpy.readthedocs.io/en/latest/data_analysis/PivotFunctions.html) bring this functionality together grouped around Entities. Entities are representations of real-world objects found commonly in CyberSec investigations. Some examples are: IpAddress, Host, Account, URL.\n",
    "\n",
    "In the following cells we look at how pivot functions can be used to easily access MSTICPy functionality relevent to the indicator being investigated.\n",
    "\n",
    "<div class=\"alert alert-block alert-warning\">\n",
    "<b>Note:</b> When you initialize the Pivot provider you will get a configuration error warning. This is not a problem (we are not using these features in this lab), we have included it to give you an example of the customized warnings in MSTICPy. These are designed to help users when running MSTICPy in notebooks, you can see that the error provides instructions and guidance to resolve issues (you don't have to resolve this one though!).\n",
    "</div>\n",
    "\n",
    "We first start by initalizing our Pivots:"
   ]
  },
  {
   "cell_type": "code",
   "execution_count": null,
   "metadata": {},
   "outputs": [],
   "source": [
    "from msticpy.datamodel.pivot import Pivot\n",
    "Pivot(namespace=globals())"
   ]
  },
  {
   "cell_type": "markdown",
   "metadata": {},
   "source": [
    "Once loaded we can take a look at the available Pivots.\n",
    "\n",
    "<div class=\"alert alert-block alert-info\">\n",
    "<b>Note:</b> The available Pivots are based on the providers we have loaded so if you have additional providers loaded you will have more Pivots available to you.</div>\n",
    "\n"
   ]
  },
  {
   "cell_type": "code",
   "execution_count": null,
   "metadata": {},
   "outputs": [],
   "source": [
    "# Once loaded we can browse what pivots are available in an interactive widget\n",
    "Pivot.browse()"
   ]
  },
  {
   "cell_type": "markdown",
   "metadata": {},
   "source": [
    "To begin to Pivot we first need to get an entity to Pivot on. For this lab we are going to use an IP address entity, and once extracted our first Pivot will be to see what sort of IP address it is using as the `ip_type` Pivot.\n",
    "\n",
    "In this example we are running the Pivot on a single indicator, however many Pivots also let you apply them to an entire dataframe (you will see this in the next Pivot example)."
   ]
  },
  {
   "cell_type": "code",
   "execution_count": null,
   "metadata": {},
   "outputs": [],
   "source": [
    "# Get an IP Address to pivot on\n",
    "ip_df =  qry_prov.Network.list_azure_network_flows_by_ip()\n",
    "ip = ip_df.iloc[0]['VMIPAddress']\n",
    "# See what type of IP address we are working with.\n",
    "entities.IpAddress.util.ip_type(ip_str=ip)"
   ]
  },
  {
   "cell_type": "markdown",
   "metadata": {},
   "source": [
    "As well as individual Pivots you can chain them together to perform several actions on a dataset.<br>\n",
    "More information on [Pivots can be found in the MSTICPy documentation](https://msticpy.readthedocs.io/en/latest/data_analysis/PivotFunctions.html)\n",
    "\n",
    "In the cell below we are taking a dataframe containing command line data addresses and applying a chain of Pivots to them.<br>\n",
    "The chain in use does the following:<br>\n",
    "<ul>\n",
    "    <li>Extracts IoCs from the command lines in the data</li>\n",
    "    <li>Filters to only logs that contained IoCs</li>\n",
    "    <li>Further filters to where the IoCs were IP addresses</li>\n",
    "    <li>Looks up those IP address in threat intelligence</li>\n",
    "    <li>Filters to only those events where there was a match in threat intelligence</li>\n",
    "</ul>"
   ]
  },
  {
   "cell_type": "code",
   "execution_count": null,
   "metadata": {},
   "outputs": [],
   "source": [
    "# Get some command line data\n",
    "cmdl_data = qry_prov.LinuxSyslog.list_all_syslog_events()\n",
    "# Extract IoCs from command lines\n",
    "(cmdl_data.head(500)\n",
    "     .mp_pivot.run(entities.Process.util.extract_iocs, column=\"SyslogMessage\", join=\"left\")\n",
    "     # Filter where there were IoCs found\n",
    "     .dropna(subset=[\"Observable\"])\n",
    "     # Filter to only IP IoCs\n",
    "     .query(\"IoCType == 'ipv4'\")\n",
    "     # Lookup IoCs in threat intel\n",
    "     .mp_pivot.run(entities.IpAddress.ti.lookup_ipv4_GreyNoise, column=\"Observable\", join=\"left\")\n",
    "     # Filter to where the IPs were found in threat intel\n",
    "     .query('Status != 404')\n",
    " )"
   ]
  },
  {
   "cell_type": "markdown",
   "metadata": {},
   "source": [
    "<div class=\"alert alert-block alert-success\">\n",
    "\n",
    "<h3>Lab Exercise 6</h3>\n",
    "Create your own pivot pipeline that does the following:<br>\n",
    "<ul>\n",
    "    <li>Takes the dataframe created for you (net_df)</li>\n",
    "    <li>Gets the type of IP address and joins this to the data</li>\n",
    "    <li>Selects only the Public IP addresses in the dataset</li>\n",
    "    <li>Filters to only 100 events</li>\n",
    "    <li>Looks up the IP addresses in threat intelligence feeds using GreyNoise</li>\n",
    "    <li>Selects only the IP addresses where there is a match in threat intelligence</li>\n",
    "</ul>\n",
    "\n",
    "<details>\n",
    "    <summary>Hint:</summary>\n",
    "    <ul>\n",
    "        <li>.head(100) will filter a Pandas dataframe to 100 rows</li>\n",
    "        <li>when calling pivot.run the parameter join='left' can be used to join the resulting dataframe into the original dataframe</li>\n",
    "        <li>Posting threat intel results from GreyNoise can be distinguished by the status not being 404</li>\n",
    "    </ul>\n",
    "</details>\n",
    "</div>"
   ]
  },
  {
   "cell_type": "code",
   "execution_count": null,
   "metadata": {},
   "outputs": [],
   "source": [
    "net_df = qry_prov.Network.list_azure_network_flows_by_ip()\n",
    "net_df['PublicIPs'] = net_df['PublicIPs'].str.strip(\"['']\").str.replace(\"'\", \"\").str.replace(\" \", \"\").str.split(\",\")\n",
    "net_df = net_df.assign(IPs=net_df['PublicIPs'].explode('IPs'))\n",
    "net_df.dropna(subset=['IPs'], inplace=True)\n",
    "# Create the pivot chain\n"
   ]
  },
  {
   "cell_type": "markdown",
   "metadata": {},
   "source": [
    "## MSTICPy's ML Features\n",
    "\n",
    "MSTICPy has a number of basic ML features to support simple analysis that is common in security investigaiton. In the following section we will look at two of those; timeseries analysis and clustering.\n",
    "\n",
    "In order to effectively hunt in a dataset analysts need to focus on specific events of interest. Below we use MSTICpy's [time series analysis](https://msticpy.readthedocs.io/en/latest/msticpy.analysis.html?highlight=timeseries#module-msticpy.analysis.timeseries) machine learning capabilities to identify anomalies in our network traffic for further investigation.<br>\n",
    "As well as computing anomalies we visualize the data so that we can more easily see where these anomalies present themselves.\n"
   ]
  },
  {
   "cell_type": "code",
   "execution_count": null,
   "metadata": {},
   "outputs": [],
   "source": [
    "# Import MSTICPy's timeseries specfic features\n",
    "from msticpy.analysis.timeseries import timeseries_anomalies_stl\n",
    "from msticpy.nbtools.timeseries import display_timeseries_anomolies\n",
    "\n",
    "# Load some network data to apply our analysis to\n",
    "stldemo = qry_prov.Network.get_network_summary()\n",
    "\n",
    "# Conduct our timeseries analyis\n",
    "output = timeseries_anomalies_stl(stldemo)\n",
    "\n",
    "# Visualize the timeseries and any anomalies\n",
    "display_timeseries_anomolies(data=output, y= 'TotalBytesSent')"
   ]
  },
  {
   "cell_type": "markdown",
   "metadata": {},
   "source": [
    "<div class=\"alert alert-block alert-success\">\n",
    "\n",
    "<h3>Lab Exercise 7</h3>\n",
    "Using the timeline above answer the following questions:\n",
    "\n",
    "<details>\n",
    "    <summary>Hint:</summary>\n",
    "    <ul>\n",
    "        <li>Hover over points on the timeline to see additional information</li>\n",
    "    </ul>\n",
    "</details>\n",
    "</div>"
   ]
  },
  {
   "cell_type": "code",
   "execution_count": null,
   "metadata": {},
   "outputs": [],
   "source": [
    "import ipywidgets as widgets\n",
    "md(\"On what date did the two network data anomalies occur?\", \"bold\")\n",
    "date = widgets.DatePicker(\n",
    "    description='Pick a Date',\n",
    "    disabled=False\n",
    ")\n",
    "display(date)\n",
    "\n",
    "md(\"How many bytes were sent on at 2020-07-06 19:00?\", \"bold\")\n",
    "bytesa = widgets.Text(\n",
    "    description='Answer:',\n",
    "    disabled=False\n",
    ")\n",
    "display(bytesa)"
   ]
  },
  {
   "cell_type": "code",
   "execution_count": null,
   "metadata": {},
   "outputs": [],
   "source": [
    "if str(date.value) == answers['question1'] and bytesa.value ==  answers['question2']:\n",
    "    md(f\"Correct, the anomolies occured on {date.value} and {bytesa.value} bytes were transfered at 2020-07-06 19:00\")    \n",
    "else:\n",
    "    md(\"One of your answers is incorrect please try again\")"
   ]
  },
  {
   "cell_type": "markdown",
   "metadata": {},
   "source": [
    "### Logon Sessions\n",
    "Logon events are key to understanding any host based activity. We have previously used MSTICpy's [timeline feature](https://msticpy.readthedocs.io/en/latest/visualization/EventTimeline.html) to display value based data from our timeseries analayis. However, we can also use it to display multiple types of discrete data on the same timeline. This is particularly useful for Windows logon events where we plot different logon types (interactive, network, etc.) in different horizontal series.<br>\n",
    "We can split the plot by simply providing it a column to split on, with the parameter `group_by`."
   ]
  },
  {
   "cell_type": "code",
   "execution_count": null,
   "metadata": {},
   "outputs": [],
   "source": [
    "# Acquire data using a built in query\n",
    "host_logons = qry_prov.WindowsSecurity.list_host_logons()\n",
    "\n",
    "# Display timeline\n",
    "tooltip_cols = [\"TimeGenerated\", \"Account\", \"LogonType\", 'TimeGenerated']\n",
    "nbdisplay.display_timeline(data=host_logons, title=\"Host Logons\", source_columns = tooltip_cols, group_by = \"LogonType\", height=200)"
   ]
  },
  {
   "cell_type": "markdown",
   "metadata": {},
   "source": [
    "When presented with a large number of events such as we have here it's useful to cluster these into a more manageable number of groups. MSTICpy contains [clustering features](https://msticpy.readthedocs.io/en/latest/msticpy.sectools.html?highlight=cluster_events#msticpy.sectools.eventcluster.dbcluster_events) that can be used against a number of data types. Once clustering is complete we use another [widget](https://msticpy.readthedocs.io/en/latest/msticpy.nbtools.html?highlight=SelectItem#msticpy.nbtools.nbwidgets.SelectItem) to let the user select the cluster they want to focus on."
   ]
  },
  {
   "cell_type": "code",
   "execution_count": null,
   "metadata": {},
   "outputs": [],
   "source": [
    "from msticpy.analysis.eventcluster import dbcluster_events, add_process_features, _string_score\n",
    "\n",
    "# Get data and convert some values into numericals\n",
    "logon_features = host_logons.copy()\n",
    "logon_features[\"AccountNum\"] = host_logons.apply(lambda x: _string_score(x.Account), axis=1)\n",
    "logon_features[\"TargetUserNum\"] = host_logons.apply(lambda x: _string_score(x.TargetUserName), axis=1)\n",
    "logon_features[\"LogonHour\"] = host_logons.apply(lambda x: x.TimeGenerated.hour, axis=1)\n",
    "\n",
    "# run clustering\n",
    "(clus_logons, _, _) = dbcluster_events(data=logon_features, time_column=\"TimeGenerated\", cluster_columns=[\"AccountNum\", \"LogonType\", \"TargetUserNum\"], max_cluster_distance=0.0001)\n",
    "\n",
    "# Sort and format the clustering scores to group similar logon events into sessions\n",
    "dist_logons = clus_logons.sort_values(\"TimeGenerated\")[[\"TargetUserName\", \"TimeGenerated\", \"LastEventTime\", \"LogonType\", \"ClusterSize\"]]\n",
    "dist_logons = dist_logons.apply(lambda x: (\n",
    "        f\"{x.TargetUserName}:    \"\n",
    "        f\"(logontype {x.LogonType})   \"\n",
    "        f\"timerange: {x.TimeGenerated} - {x.LastEventTime}    \"\n",
    "        f\"count: {x.ClusterSize}\"\n",
    "    ),\n",
    "    axis=1,\n",
    ")\n",
    "# Extract the distinct sessions\n",
    "dist_logons = {v: k for k, v in dist_logons.to_dict().items()}\n",
    "\n",
    "def show_logon(idx):\n",
    "    return nbdisplay.format_logon(pd.DataFrame(clus_logons.loc[idx]).T)\n",
    "\n",
    "# Display the sessions in a selection widget for later use\n",
    "logon_wgt = nbwidgets.SelectItem(description=\"Select logon cluster to examine\", item_dict=dist_logons, action=show_logon,height=\"200px\", width=\"100%\", auto_display=True)"
   ]
  },
  {
   "cell_type": "markdown",
   "metadata": {},
   "source": [
    "---\r\n",
    "\r\n",
    "<h1 style=\"border: 1px solid;background-color: LightGray; padding: 10px\">Summary</h1>\r\n",
    "\r\n",
    "MSTICPy has many features, in the lab you have only just started to scratch the surface. We have many more features to explore.<br>\r\n",
    "In addition MSTICPy is a work in progress and we are very open to contributions, improvements, feedback, and feature requests from the community.\r\n",
    "\r\n",
    "<h1 style=\"border: 1px solid;background-color: LightGray; padding: 10px\">Check out our Microsoft Learn TV session</h1>\r\n",
    "\r\n",
    "Check out our one-hour live broadcast on Microsoft Learn TV on **May 20 at 1PM PT**,\r\n",
    "where we’ll dive deep into MSTICPy and it’s many uses! Special focus on extending MSTICPy.\r\n",
    "\r\n",
    "More details and save-the-date at https://aka.ms/thelaunchspacemsticpy.\r\n",
    "\r\n",
    "---\r\n",
    "\r\n",
    "<h1 style=\"border: 1px solid;background-color: LightGray; padding: 10px\">Resources</h1>\r\n",
    "\r\n",
    "MSTICPy Documentation - https://msticpy.readthedocs.io<br>\r\n",
    "GitHub repo - https://github.com/microsoft/msticpy<br>\r\n",
    "Blog - https://msticpy.medium.com<br>\r\n",
    "\r\n",
    "Sample notebooks:\r\n",
    "- https://github.com/microsoft/msticpy/tree/master/docs/notebooks\r\n",
    "- https://github.com/Azure/Azure-Sentinel-Notebooks\r\n",
    "\r\n",
    "\r\n",
    "<h1 style=\"border: 1px solid;background-color: LightGray; padding: 10px\">Contacts</h1>\r\n",
    "\r\n",
    "MSTICPy is built and maintained by:\r\n",
    "<ul>\r\n",
    "    <li>Ian Hellen</li>\r\n",
    "    <li>Pete Bryan</li>\r\n",
    "    <li>Ashwin Patil</li>\r\n",
    "</ul>\r\n",
    "\r\n",
    "If you have any questions please reach out to us on [GitHub](https://github.com/microsoft/msticpy) or at:<br>\r\n",
    "Email - msticpy@microsoft.com<br>\r\n",
    "Twitter - [@ianhellen Ian Hellen](https://twitter.com/ianhellen), [@MSSPete (Pete Bryan)](https://twitter.com/MSSPete), [@AshwinPatil (Ashwin Patil)](https://twitter.com/ashwinpatil)<br>\r\n",
    "GitHub - [@ianhelle](https://github.com/ianhelle), [@PeteBryan](https://github.com/petebryan), [@Ashwin-Patil](https://github.com/ashwin-patil)<br>\r\n",
    "LinkedIn - [@ianhellen](https://www.linkedin.com/in/ianhellen/), [@PeteBryan](https://www.linkedin.com/in/peter-bryan-77588473/), [@AshwinPatil](https://www.linkedin.com/in/ashwinrp/)"
   ]
  }
 ],
 "metadata": {
  "kernelspec": {
   "display_name": "Python 3",
   "language": "python",
   "name": "python3"
  },
  "language_info": {
   "codemirror_mode": {
    "name": "ipython",
    "version": 3
   },
   "file_extension": ".py",
   "mimetype": "text/x-python",
   "name": "python",
   "nbconvert_exporter": "python",
   "pygments_lexer": "ipython3",
   "version": "3.8.8"
  },
  "widgets": {
   "application/vnd.jupyter.widget-state+json": {
    "state": {},
    "version_major": 2,
    "version_minor": 0
   }
  }
 },
 "nbformat": 4,
 "nbformat_minor": 4
}
